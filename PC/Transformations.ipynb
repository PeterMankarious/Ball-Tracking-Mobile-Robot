{
 "cells": [
  {
   "cell_type": "code",
   "execution_count": 1,
   "id": "c5e56249",
   "metadata": {},
   "outputs": [],
   "source": [
    "import cv2\n",
    "import numpy as np\n",
    "import matplotlib.pyplot as plt"
   ]
  },
  {
   "cell_type": "code",
   "execution_count": 2,
   "id": "0f8e7719",
   "metadata": {},
   "outputs": [],
   "source": [
    "img = cv2.imread('Tennis.jpg') \n",
    "org = img.copy()\n",
    "img_hsv = cv2.cvtColor(img, cv2.COLOR_RGB2HSV)\n",
    "#img = cv2.VideoCapture(0)"
   ]
  },
  {
   "cell_type": "code",
   "execution_count": null,
   "id": "f63c7ade",
   "metadata": {},
   "outputs": [],
   "source": [
    "color = np.uint8([[[255,150,0]]])\n",
    "print(color)\n",
    "hsv_color = cv2.cvtColor(color,cv2.COLOR_BGR2HSV)\n",
    "print( hsv_color )"
   ]
  },
  {
   "cell_type": "code",
   "execution_count": 7,
   "id": "476da74c",
   "metadata": {},
   "outputs": [
    {
     "name": "stdout",
     "output_type": "stream",
     "text": [
      "centre coordinates: 25   34\n",
      "hsv [174   6 222]\n",
      "bgr [222 217 218]\n",
      "radius: 15\n"
     ]
    }
   ],
   "source": [
    "\n",
    "\n",
    "centrex = 0\n",
    "centrey = 0\n",
    "radius = 0\n",
    "# function to display the coordinates of\n",
    "# of the points clicked on the image\n",
    "def click_event(event, x, y, flags, params):\n",
    "    global centrex\n",
    "    global centrey \n",
    "    global radius\n",
    "    global img\n",
    "    # checking for left mouse clicks\n",
    "    if event == cv2.EVENT_LBUTTONDOWN:\n",
    "\n",
    "        # displaying the coordinates\n",
    "        # on the Shell\n",
    "        print('centre coordinates:',x, ' ', y)\n",
    "        print('hsv',img_hsv[y,x])\n",
    "        print('bgr',img[y,x])\n",
    "        centrex = x\n",
    "        centrey = y\n",
    "        # displaying the coordinates\n",
    "        # on the image window\n",
    "#         font = cv2.FONT_HERSHEY_SIMPLEX\n",
    "#         cv2.putText(img, str(x) + ',' +\n",
    "#                     str(y), (x,y), font,\n",
    "#                     1, (255, 0, 0), 2)\n",
    "#         cv2.imshow('image', img)\n",
    " \n",
    "    # checking for right mouse clicks    \n",
    "    if event==cv2.EVENT_RBUTTONDOWN:\n",
    " \n",
    "        # displaying the coordinates\n",
    "        # on the Shell\n",
    "        \n",
    "        radius = int(((centrex - x)**2+(centrey - y)**2)**0.5)\n",
    "        print('radius:',radius)\n",
    "        cv2.circle(img, (centrex, centrey), radius, (0, 255, 0), 4)\n",
    "        cv2.imshow('image', img)\n",
    "        # displaying the coordinates\n",
    "        # on the image window\n",
    "#         font = cv2.FONT_HERSHEY_SIMPLEX \n",
    "#         b = img[y, x, 0]\n",
    "#         g = img[y, x, 1]\n",
    "#         r = img[y, x, 2]\n",
    "#         cv2.putText(img, str(b) + ',' +\n",
    "#                     str(g) + ',' + str(r),\n",
    "#                     (x,y), font, 1,\n",
    "#                     (255, 255, 0), 2)\n",
    "#         cv2.imshow('image', img)\n",
    " \n",
    " \n",
    "    # displaying the image\n",
    "cv2.imshow('image', img)\n",
    " \n",
    "    # setting mouse handler for the image\n",
    "    # and calling the click_event() function\n",
    "cv2.setMouseCallback('image', click_event)\n",
    " \n",
    "    # wait for a key to be pressed to exit\n",
    "cv2.waitKey(0)\n",
    " \n",
    "    # close the window\n",
    "cv2.destroyAllWindows()\n",
    "img = org.copy()"
   ]
  },
  {
   "cell_type": "code",
   "execution_count": 8,
   "id": "6f0d4148",
   "metadata": {},
   "outputs": [
    {
     "name": "stdout",
     "output_type": "stream",
     "text": [
      "[0, 2, 209] [175, 7, 230]\n"
     ]
    }
   ],
   "source": [
    "lh = 255\n",
    "ls = 255\n",
    "lv = 255\n",
    "uh = 0\n",
    "us = 0\n",
    "uv = 0\n",
    "\n",
    "\n",
    "\n",
    "for y in range(-radius, +radius+1):\n",
    "    x = int((radius**2 - y**2)**0.5)\n",
    "    y = y +centrey\n",
    "    \n",
    "    x1 = -x + centrex\n",
    "    x2 = +x + centrex\n",
    "    \n",
    "    for i in range(x1,x2):\n",
    "        lh = min(lh,img_hsv[y,i,0])\n",
    "        ls = min(ls,img_hsv[y,i,1])\n",
    "        lv = min(lv,img_hsv[y,i,2])\n",
    "        uh = max(uh,img_hsv[y,i,0])\n",
    "        us = max(us,img_hsv[y,i,1])\n",
    "        uv = max(uv,img_hsv[y,i,2])\n",
    "\n",
    "\n",
    "#     lh = min(lh,img_hsv[y,x2,0])\n",
    "#     ls = min(ls,img_hsv[y,x2,1])\n",
    "#     lv = min(lv,img_hsv[y,x2,2])\n",
    "#     uh = max(uh,img_hsv[y,x2,0])\n",
    "#     us = max(us,img_hsv[y,x2,1])\n",
    "#     uv = max(uv,img_hsv[y,x2,2])\n",
    "    \n",
    "print([lh,ls,lv],[uh,us,uv])\n",
    "\n",
    "\n",
    "\n",
    "# define range of blue color in HSV\n",
    "# lower = np.array([0,5,100])\n",
    "# upper = np.array([180,70,220])\n",
    "lower = np.array([lh,ls,lv])\n",
    "upper = np.array([uh,us,uv])\n",
    "\n",
    "# Threshold the HSV image to get only blue colors\n",
    "mask = cv2.inRange(img_hsv, lower, upper)\n",
    "\n",
    "# Bitwise-AND mask and original image\n",
    "res = cv2.bitwise_and(img,img, mask= mask)\n",
    "\n",
    "cv2.imshow('img',img)\n",
    "cv2.imshow('mask',mask)\n",
    "cv2.imshow('res',res)\n",
    "cv2.waitKey(0) \n",
    "cv2.destroyAllWindows() \n",
    "    "
   ]
  },
  {
   "cell_type": "code",
   "execution_count": null,
   "id": "c226f962",
   "metadata": {},
   "outputs": [],
   "source": []
  }
 ],
 "metadata": {
  "kernelspec": {
   "display_name": "Python 3 (ipykernel)",
   "language": "python",
   "name": "python3"
  },
  "language_info": {
   "codemirror_mode": {
    "name": "ipython",
    "version": 3
   },
   "file_extension": ".py",
   "mimetype": "text/x-python",
   "name": "python",
   "nbconvert_exporter": "python",
   "pygments_lexer": "ipython3",
   "version": "3.9.7"
  }
 },
 "nbformat": 4,
 "nbformat_minor": 5
}
